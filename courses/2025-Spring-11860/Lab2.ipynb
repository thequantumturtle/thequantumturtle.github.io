{
  "cells": [
    {
      "cell_type": "markdown",
      "metadata": {
        "id": "_Rk2xMk76ZBA"
      },
      "source": [
        "$$\n",
        "% Surprised you caught this, good eye!  Nothing exciting to see here though - just some custom commands that make typing math a lot easier\n",
        "\\newcommand{\\ket}[1]{\\left|{#1}\\right\\rangle}\n",
        "\\newcommand{\\bra}[1]{\\left\\langle{#1}\\right|}\n",
        "$$"
      ]
    },
    {
      "cell_type": "markdown",
      "metadata": {
        "id": "yd2UiaAN2Xan"
      },
      "source": [
        "# 11-860 Lab 2 - Implementing Single Qubit Gates\n",
        "by Thomas Cantalapiedra\n",
        "\n",
        "\n",
        "## Introduction\n",
        "As we have learned in class, there are various gates that we can use to alter the state of a single qubit.  In this lab, we will play around with a few of them by coding gates in TKET and showing how these gates affect the phasor on the Bloch Sphere.\n",
        "\n",
        "## Goal\n",
        "The goal of this lab is to build a mental image about what these gates are doing.  This will be important for understanding how states are manipulated in the algorithms we will cover.\n",
        "\n",
        "## Important Terminology\n",
        "**Amplitude**:  The amplitude on $\\ket{\\omega}$ is a complex value telling us the probability of measuring the state to $\\ket{\\omega}.$  For example, if $$\\ket{\\psi} = \\alpha \\ket{0} + \\beta \\ket{1}$$ then the amplitude on $\\ket{0}$ is $\\alpha$.  \n",
        "\n",
        "**Phase**:  You can think of phase as the argument we pass to the complex part of the amplitude.  For example, if the state is $$\\ket{\\psi} = \\alpha \\ket{0} + \\beta \\ket{1}$$ then the amplitudes can be written in polar form as $$\\alpha = |\\alpha | e^{i\\phi_\\alpha} \\text{ and } \\beta = |\\beta | e^{i\\phi_\\beta}$$  The phase of $\\ket{0}$ is $\\phi_\\alpha$ and the phase of $\\ket{1}$ is $\\phi_\\beta.$\n",
        "\n",
        "**Relative Phase**:  The relative phase is the difference in phase between amplitudes of a quantum superposition.  For example, if the state is $$\\ket{\\psi} = \\alpha \\ket{0} + \\beta \\ket{1}$$ then the amplitudes can be written in polar form as $$\\alpha = |\\alpha | e^{i\\phi_\\alpha} \\text{ and } \\beta = |\\beta | e^{i\\phi_\\beta}$$  The relative phase of this state is $\\Delta \\phi = \\phi_\\beta - \\phi_\\alpha$.\n",
        "\n",
        "In the Bloch Sphere, the azimuth angle ($\\phi$) actually shows us the relative phase (disregarding a global phase factor that we will not cover)."
      ]
    },
    {
      "cell_type": "code",
      "execution_count": null,
      "metadata": {
        "id": "2XuBNOvn4Mss"
      },
      "outputs": [],
      "source": [
        "!pip install pytket\n",
        "!pip install pytket-quantinuum[pecos]\n",
        "import numpy as np\n",
        "import pickle\n",
        "import pytket as tket\n",
        "import pytket.qasm as qasm\n",
        "from pytket.extensions.quantinuum import QuantinuumBackend, QuantinuumAPIOffline\n",
        "api_offline = QuantinuumAPIOffline()\n",
        "backend = QuantinuumBackend(device_name=\"H1-1LE\", api_handler = api_offline)\n",
        "from pytket.circuit.display import render_circuit_jupyter\n"
      ]
    },
    {
      "cell_type": "markdown",
      "metadata": {
        "id": "XtHuwIJR2Zf9"
      },
      "source": [
        "## NOT (Pauli-X) ($\\sigma_x$)\n",
        "\n",
        "The NOT gate (more formally known as the Pauli-X gate) is straightforward.  It simply flips the amplitudes on whatever state we pass to it.  On the block sphere, it rotates the phasor by $180°$ ($\\pi$ radians) around the X-axis on the Bloch sphere. Its transition matrix is $$\\begin{array}{c c}\n",
        "& \\begin{array}{c c} \\ket{0} & \\ket{1} \\\\ \\end{array} \\\\\n",
        "\\begin{array}{c c} \\ket{0} \\\\ \\ket{1} \\end{array} &\n",
        "\\left[\n",
        "\\begin{array}{c c}\n",
        "0 & 1 \\\\\n",
        "1 & 0\n",
        "\\end{array}\n",
        "\\right]\n",
        "\\end{array} $$\n",
        "\n",
        "Note that in a transition matrix, the **columns** correspond to the **input states** and the *rows* correspond to the *output states*.  Why is this?"
      ]
    },
    {
      "cell_type": "code",
      "execution_count": null,
      "metadata": {
        "id": "K1gJGaTW8RF7"
      },
      "outputs": [],
      "source": [
        "X_circuit = tket.Circuit(1) # Create a new quantum circuit with 1 qubit\n",
        "print(\"Apply NOT to the first bit\")\n",
        "X_circuit.X(0)\n",
        "render_circuit_jupyter(X_circuit)\n",
        "\n",
        "print(\"Apply NOT again\")\n",
        "X_circuit.X(0)\n",
        "render_circuit_jupyter(X_circuit)"
      ]
    },
    {
      "cell_type": "markdown",
      "metadata": {
        "id": "A31nA52b9JF_"
      },
      "source": [
        "## Hadamard\n",
        "\n",
        "The Hadamard gate ($H$ gate) is one of the most important gates in quantum computing.  If applied uniformly to all qubits, it puts our state into a superposition of all $2^N$ classical states where each one has an equal probability of being measured out.  This is called the \"Uniform Superposition\" and is used in almost every quantum algorithm because it allows us to test all possible inputs at once, with no initial bias towards any one input.  Its transition matrix is $$\\begin{array}{c c}\n",
        "& \\begin{array}{c c} \\ket{0} & \\ket{1} \\\\ \\end{array} \\\\\n",
        "\\begin{array}{c c} \\ket{0} \\\\ \\ket{1} \\end{array} &\n",
        "\\left[\n",
        "\\begin{array}{c c}\n",
        "\\sqrt{\\frac{1}{2}} & \\sqrt{\\frac{1}{2}}\\\\\n",
        "\\sqrt{\\frac{1}{2}} & -\\sqrt{\\frac{1}{2}}\n",
        "\\end{array}\n",
        "\\right]\n",
        "\\end{array} $$\n",
        "\n",
        "It is important to note that the Hadamard applied to $\\ket{0}$ yields $$\\sqrt{\\frac{1}{2}}\\ket{0} + \\sqrt{\\frac{1}{2}}\\ket{1} = \\ket{+}$$ and applied to $\\ket{1}$ yields $$\\sqrt{\\frac{1}{2}}\\ket{0} - \\sqrt{\\frac{1}{2}}\\ket{1} = \\ket{-}.$$\n",
        "\n",
        "Indeed, if we wish to transform (or measure) into the sign basis, we must apply the Hadamard operation to our state."
      ]
    },
    {
      "cell_type": "code",
      "execution_count": null,
      "metadata": {
        "id": "tUn6IPIR_GHm"
      },
      "outputs": [],
      "source": [
        "H_circuit = tket.Circuit(1,1)\n",
        "print(\"Apply Hadamard to the first bit\")\n",
        "H_circuit.H(0)\n",
        "H_circuit.Measure(0)\n",
        "render_circuit_jupyter(H_circuit)\n",
        "\n",
        "compiled = backend.get_compiled_circuit(H_circuit, optimisation_level=0)\n",
        "qjob = backend.run_circuit(compiled, n_shots=100)\n",
        "print(qjob.get_shots())\n",
        "\n",
        "print(\"Apply Hadamard again\")\n",
        "H_circuit.H(0)\n",
        "render_circuit_jupyter(H_circuit)"
      ]
    },
    {
      "cell_type": "markdown",
      "metadata": {
        "id": "iU2nM0bI_il4"
      },
      "source": [
        "## Pauli-Z ($\\sigma_z$)\n",
        "The Pauli-Z gate ($Z$ gate for short) is an important gate for introducing phase flips to the state.  You can think of this as \"if 1 then negate\" - meaning that the amplitude on $\\ket{0}$ is unchanged but any amplitude on $\\ket{1}$ is negated.  This is a phase flip because it rotates the phasor around the Z-axis of the Bloch sphere by $180°$ ($\\pi$ radians).  Its transition matrix is $$\\begin{array}{c c}\n",
        "& \\begin{array}{c c} \\ket{0} & \\ket{1} \\\\ \\end{array} \\\\\n",
        "\\begin{array}{c c} \\ket{0} \\\\ \\ket{1} \\end{array} &\n",
        "\\left[\n",
        "\\begin{array}{c c}\n",
        "1 & 0 \\\\\n",
        "0 & -1\n",
        "\\end{array}\n",
        "\\right]\n",
        "\\end{array} $$"
      ]
    },
    {
      "cell_type": "code",
      "execution_count": null,
      "metadata": {
        "id": "aGHB99MRoEMX"
      },
      "outputs": [],
      "source": [
        "# You will implement the Pauli-Z gate by looking through the TKET documentation\n",
        "# https://docs.quantinuum.com/tket/api-docs/circuit_class.html"
      ]
    },
    {
      "cell_type": "markdown",
      "metadata": {
        "id": "Xc2cBJIoo_em"
      },
      "source": [
        "## Phase Gate ($S$ Gate)\n",
        "The $S$ gate allows us to shift the phase of $\\ket{1}$ by $90°$ ($\\frac{\\pi}{2}$ radians) about the Z-axis. Two of these operations is equivalent to one $Z$ gate.  Its transition matrix is $$\\begin{array}{c c}\n",
        "& \\begin{array}{c c} \\ket{0} & \\ket{1} \\\\ \\end{array} \\\\\n",
        "\\begin{array}{c c} \\ket{0} \\\\ \\ket{1} \\end{array} &\n",
        "\\left[\n",
        "\\begin{array}{c c}\n",
        "1 & 0 \\\\\n",
        "0 & i\n",
        "\\end{array}\n",
        "\\right]\n",
        "\\end{array} $$\n",
        "Exercise: Prove that this is equal to\n",
        "$$\\begin{array}{c c}\n",
        "& \\begin{array}{c c} \\ket{0} & \\ket{1} \\\\ \\end{array} \\\\\n",
        "\\begin{array}{c c} \\ket{0} \\\\ \\ket{1} \\end{array} &\n",
        "\\left[\n",
        "\\begin{array}{c c}\n",
        "1 & 0 \\\\\n",
        "0 & e^{i\\pi/2}\n",
        "\\end{array}\n",
        "\\right]\n",
        "\\end{array} $$"
      ]
    },
    {
      "cell_type": "code",
      "execution_count": null,
      "metadata": {
        "id": "57qYju24sTz6"
      },
      "outputs": [],
      "source": [
        "# You will implement the S gate by looking through the TKET documentation\n",
        "# https://docs.quantinuum.com/tket/api-docs/circuit_class.html"
      ]
    },
    {
      "cell_type": "markdown",
      "metadata": {
        "id": "w41qnNjssiRX"
      },
      "source": [
        "## $T$ Gate\n",
        "The $T$ gate allows us to shift the phase of $\\ket{1}$ by $45°$ ($\\frac{\\pi}{4}$ radians) about the Z-axis. Four of these operations is equivalent to one $Z$ gate, and two of them is equivalent to one $S$ gate.  Its transition matrix is $$\\begin{array}{c c}\n",
        "& \\begin{array}{c c} \\ket{0} & \\ket{1} \\\\ \\end{array} \\\\\n",
        "\\begin{array}{c c} \\ket{0} \\\\ \\ket{1} \\end{array} &\n",
        "\\left[\n",
        "\\begin{array}{c c}\n",
        "1 & 0 \\\\\n",
        "0 & e^{i \\pi/4}\n",
        "\\end{array}\n",
        "\\right]\n",
        "\\end{array} $$"
      ]
    },
    {
      "cell_type": "code",
      "execution_count": null,
      "metadata": {
        "id": "fOMK2HorsiRY"
      },
      "outputs": [],
      "source": [
        "# You will implement the T gate by looking through the TKET documentation\n",
        "# https://docs.quantinuum.com/tket/api-docs/circuit_class.html"
      ]
    },
    {
      "cell_type": "markdown",
      "metadata": {
        "id": "WJRncpbQwicl"
      },
      "source": [
        "## Pauli-Y Gate ($\\sigma_y$)\n",
        "The Pauli-Y gate combines the concepts of bit flips (Pauli-X) and phase flip (Pauli-Z).  It rotates the phasor $180°$ ($\\pi$ radians) about the Y-axis.  Its transition matrix is $$\\begin{array}{c c}\n",
        "& \\begin{array}{c c} \\ket{0} & \\ket{1} \\\\ \\end{array} \\\\\n",
        "\\begin{array}{c c} \\ket{0} \\\\ \\ket{1} \\end{array} &\n",
        "\\left[\n",
        "\\begin{array}{c c}\n",
        "0 & -i \\\\\n",
        "i & 0\n",
        "\\end{array}\n",
        "\\right]\n",
        "\\end{array} $$\n",
        "The bit flip part is obvious, so let's look at the phase. When we apply it to $\\ket{0}$, we flip the amplitudes apply a phase shift of $i$ to the new amplitude of $\\ket{1}$.  When we apply it to $\\ket{1}$, we apply a phase shift of $-i$ to reverse this.\n",
        "\n",
        "It may not seem intuitive how this combination of operations results in a phase shift of $\\pi$, but rest assured that this is indeed how we rotate a phasor $180°$ about the Y-axis."
      ]
    },
    {
      "cell_type": "code",
      "execution_count": null,
      "metadata": {
        "id": "M04yGfyNwicm"
      },
      "outputs": [],
      "source": [
        "# You will implement the Pauli-Y gate by looking through the TKET documentation\n",
        "# https://docs.quantinuum.com/tket/api-docs/circuit_class.html"
      ]
    },
    {
      "cell_type": "markdown",
      "metadata": {
        "id": "9cqeNZ6X8mtU"
      },
      "source": [
        "## Hermitian ($†$)\n",
        "The Hermitian (also known as the \"dagger\") is the result of transposing a matrix and taking the complex conjugate of its elements.  As a reminder, the complex conjugate of $a + bi$ is $a - bi$.\n",
        "\n",
        "Hermitians are important because they are the inverse of our unitary transformations.\n",
        "\n",
        "## $S^\\dagger$\n",
        "\n",
        "$S^\\dagger$ is the inverse of the $S$ gate.  Its transition matrix is $$\\begin{array}{c c}\n",
        "& \\begin{array}{c c} \\ket{0} & \\ket{1} \\\\ \\end{array} \\\\\n",
        "\\begin{array}{c c} \\ket{0} \\\\ \\ket{1} \\end{array} &\n",
        "\\left[\n",
        "\\begin{array}{c c}\n",
        "1 & 0 \\\\\n",
        "0 & -i\n",
        "\\end{array}\n",
        "\\right]\n",
        "\\end{array} $$\n",
        "\n",
        "Exercise: Show that $SS^\\dagger = I$"
      ]
    },
    {
      "cell_type": "markdown",
      "metadata": {
        "id": "zKyqkenP7I_A"
      },
      "source": [
        "## Now You Know All The Basic Single Qubit Gates!\n",
        "\n",
        "Some terminology to know is that the Pauli, S, and Hadamard gates ($\\{\\sigma_x, \\sigma_y, \\sigma_z, S, H\\}$) are referred to as Clifford gates and they have some cool properties.\n",
        "\n",
        "Exercise: What is $H \\sigma_z H^\\dagger$?  What is $H \\sigma_x H^\\dagger$?\n",
        "\n",
        "Exercise: What is $S \\sigma_z S^\\dagger$?  What is $S \\sigma_x S^\\dagger$?"
      ]
    }
  ],
  "metadata": {
    "colab": {
      "provenance": []
    },
    "kernelspec": {
      "display_name": "Python 3",
      "name": "python3"
    },
    "language_info": {
      "name": "python"
    }
  },
  "nbformat": 4,
  "nbformat_minor": 0
}
